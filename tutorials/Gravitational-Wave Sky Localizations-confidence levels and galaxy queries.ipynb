{
 "cells": [
  {
   "cell_type": "markdown",
   "metadata": {},
   "source": [
    "# <span style=\"color:#1E90FF\"> <strong>  Gravitational-Wave Sky Localizations: confidence levels and galaxy queries </strong> </span>\n",
    "\n",
    "This is the second of a series of tutorials focusing on some  basic strategies for working with gravitational-wave sky maps in the context of the EM-followUP activity. Here we cover:\n",
    "\n",
    "1. Confidence levels using the Multi Order Coverage Map algorithm (MOC) (45min)\n",
    "2. MOC intersection: GW170814 and GW170817 (1h)\n",
    "2. Access to existing catalogs using (MOC) (1h)\n",
    "3. mocpy (1h)"
   ]
  },
  {
   "cell_type": "markdown",
   "metadata": {},
   "source": [
    "# 1. The gravitational-wave (GW) astronomy\n",
    "\n",
    "The era of gravitational-wave (GW) astronomy began with the detection of binary black hole (BBH) mergers, by the [Advanced Laser Interferometer Gravitational-Wave Observatory](http://iopscience.iop.org/article/10.1088/0264-9381/32/7/074001/meta;jsessionid=C8FA1A8959EC5DE7B54BED96DDBEF1CD.c4.iopscience.cld.iop.org) (LIGO) detectors, during the first of the Advanced Detector Observation Runs. Three detections, [GW150914](https://journals.aps.org/prl/abstract/10.1103/PhysRevLett.116.061102), [GW151226](https://journals.aps.org/prl/abstract/10.1103/PhysRevLett.116.241103), and [GW170104](https://journals.aps.org/prl/abstract/10.1103/PhysRevLett.118.221101), and a lower significance candidate, [LVT151012](https://journals.aps.org/prx/abstract/10.1103/PhysRevX.6.041015), have been announced so far. The [Advanced Virgo detector](http://iopscience.iop.org/article/10.1088/0264-9381/32/2/024001/meta) joined the second observation run on August 1, 2017.\n",
    "\n",
    "### 1.1 Three-Way Detection of Gravitational Waves\n",
    "On August 14, a signal was seen at LIGO-Livingston; 8 milliseconds later, LIGO-Hanford reported a detection; and 6 milliseconds after that, Virgo detected a signal. A statistical analysis by the LIGO and Virgo collaborations suggested that such a multi-site detection would occur in random signals at most once in 27,000 years. \n",
    "**The first simultaneous detection of gravitational radiation by the LIGO and Virgo detectors greatly improves localization of the source and permits a novel test of general relativity - [GW170814: A Three-Detector Observation of Gravitational Waves from a Binary Black Hole Coalescence](https://journals.aps.org/prl/abstract/10.1103/PhysRevLett.119.141101#fulltext).**\n",
    "\n",
    "The LIGO and Virgo team alerted the astronomical community to the detection, but no corresponding signal has been found in any part of the electromagnetic spectrum or in neutrinos. The lack of an optical counterpart isn’t really a surprise *two such black holes in a close orbit are likely to sweep their immediate vicinity clear of gas and dust and the gravitational radiation released by the merger does not agitate what little material remains enough to emit electromagnetic energy*.  [Focus: Three-Way Detection of Gravitational Waves](https://physics.aps.org/articles/v10/110).\n",
    "\n",
    "### 1. 2 Observations of a Binary Neutron Star Merger\n",
    "\n",
    "On August 17, 2017 astronomers around the world were alerted to gravitational waves observed by the Advanced LIGO and Advanced Virgo detectors. This gravitational wave event, now known as GW170817, appeared to be the result of the merger of two neutron stars (BNS). Less than two seconds after the GW170817 signal, NASA's [Fermi](https://fermi.gsfc.nasa.gov/) satellite observed a gamma-ray burst, now known as GRB170817A, and within minutes of these initial detections telescopes around the world began an extensive observing campaign. The [Swope telescope](http://obs.carnegiescience.edu/swope) in Chile was the first to report a bright optical source (SSS17a/AT2017gfo) in the galaxy NGC 4993 and several other teams independently detected the same transient over the next minutes and hours. For the next several weeks astronomers observed this location with instruments sensitive across the electromagnetic spectrum; these observations provide a comprehensive view of this cataclysmic event starting ~100 seconds before merger until several weeks after. The observations support the hypothesis that two neutron stars merged in NGC 4993 - producing gravitational waves, a short-duration gamma-ray burst, and a kilonova. This observation firmly connects kilonovae with the BNS merger, providing evidence that kilonovae result from the radioactive decay of the heavy elements formed by neutron capture during a BNS merger - including gold and platinum - solving a decades long mystery of where about half of all elements heavier than iron are produced. \n",
    "GW170817 marks a new era of multi-messenger astronomy, where the same event is observed by both gravitational waves and electromagnetic waves [The Dawn of Multi-Messenger Astrophysics: Observations of a Binary Neutron Star Merger](http://ligo.org/science/Publication-GW170817MMA/). \n",
    "\n"
   ]
  },
  {
   "cell_type": "code",
   "execution_count": 12,
   "metadata": {},
   "outputs": [
    {
     "data": {
      "text/html": [
       "<img src=\"http://ligo.org/science/Publication-GW170817MMA/images/BNS.png\" width=\"600\" height=\"500\"/>"
      ],
      "text/plain": [
       "<IPython.core.display.Image object>"
      ]
     },
     "metadata": {},
     "output_type": "display_data"
    }
   ],
   "source": [
    "display(Image(url='http://ligo.org/science/Publication-GW170817MMA/images/BNS.png',width=600, height=500))\n"
   ]
  },
  {
   "cell_type": "markdown",
   "metadata": {},
   "source": [
    "**Fig.1.**  shows an artist's illustration of two merging neutron stars. The narrow beams represent the gamma-ray burst while the rippling spacetime grid indicates the isotropic gravitational waves that characterize the merger. Swirling clouds of material ejected from the merging stars are a possible source of the light that was seen at lower energies."
   ]
  },
  {
   "cell_type": "markdown",
   "metadata": {},
   "source": [
    "### 1.3 The gravitational-wave events detected so far\n",
    "\n",
    "The gif shows the sky localizations of the gravitational-wave events detected so far in galactic projection excepting GW170608. GW150914, GW151226, GW170104 and GW170814 are generated from the merger of two black holes.  GW170817 is the first observation of gravitational-waves from a pair of inspiraling neutron stars. Electromagnetic emission from the resulting collision was also observed in multiple wavelength bands. This occured on August 17, 2017 and represents the first time a cosmic event was observed with both gravitational waves and light."
   ]
  },
  {
   "cell_type": "code",
   "execution_count": 15,
   "metadata": {},
   "outputs": [
    {
     "data": {
      "text/html": [
       "<img src=\"https://github.com/ggreco77/Electromagnetic-follow-up-of-gravitational-wave-events/blob/master/sky_localizations_v2.gif?raw=true\"/>"
      ],
      "text/plain": [
       "<IPython.core.display.Image object>"
      ]
     },
     "metadata": {},
     "output_type": "display_data"
    }
   ],
   "source": [
    "from IPython.display import Image\n",
    "from IPython.display import display\n",
    "display(Image(url='https://github.com/ggreco77/Electromagnetic-follow-up-of-gravitational-wave-events/blob/master/sky_localizations_v2.gif?raw=true'))\n"
   ]
  },
  {
   "cell_type": "markdown",
   "metadata": {},
   "source": [
    "**FIG.2.** Sky localizations computed using LALinference for a selection of GW events. The addition of Virgo shows a dramatic increase in the sky localizations of GW170814 and GW170817. *Credit Background image: Mellinger*."
   ]
  },
  {
   "cell_type": "markdown",
   "metadata": {},
   "source": [
    " # 2   Multi-Order Coverage Map\n",
    "\n",
    "[The Multi-Order Coverage](http://ivoa.net/documents/MOC/20140602/REC-MOC-1.0-20140602.pdf) (MOC) method is based on the HEALPix tessellation algorithm and it is essentially a  simple  way  to  map  irregular  and  complex  sky  regions  into  hierarchically  grouped  predefined  cells. \n",
    "\n",
    "MOC is a multiscale mapping based on HEALPix sky tessellation. It is essentially a simple way to map irregular and complex sky regions into hierarchically grouped predefined cells.\n",
    "Each MOC cell is defined by two numbers: the hierarchy level (HEALPIX ORDER) and the pixel\n",
    "index (HEALPIX NPIX).The NUNIQ scheme defines an algorithm for packing an (ORDER, NPIX)\n",
    "pair into a single integer for compactness:\n",
    "\n",
    "$$uniq = 4\\times 4^{(order)} + npix$$\n",
    "\n",
    "The operations  between  MOC  maps  (union,  intersection,  subtraction,  difference, \n",
    "complement)  are  extremely simple and fast  (generally a few milliseconds) even for very complex  sky regions. In addition to this, same data  servers, such as VizieR, can be “queried by MOC” in  order  to  return  data  (catalog  sources/list  of images) only inside\n",
    "the MOC coverage. Each  line  encloses  a  given  percentage  of  the  total  probability.  These contours were constructed using a “water-filling” algorithm: the pixels from most probable to least are ranked, and finally the pixels are summed up to get a fixed level of \n",
    "probability [Singer et al. 2014](https://arxiv.org/abs/1404.5623). \n",
    "\n",
    "The enclosed area within a given probability level of a GW sky map can be effectively described through the Multi-Order  Coverage  (MOC)  method.\n",
    "The HEALPix pixels(ipix) inside  a  given  contour  plot are  extracted and the ipix\n",
    "table is used to generate the MOC coverage; for more details see [Handling gravitational-wave \n",
    "sky maps with Multi-Order Coverage](http://nbviewer.jupyter.org/gist/ggreco77/d43e5a1141b99f918672e70adc05864d). "
   ]
  },
  {
   "cell_type": "markdown",
   "metadata": {},
   "source": [
    "## 2.1 MOC contour plot generation\n",
    "\n",
    "<span style=\"color:#B22222\"> <strong>1.2.1. Create the 50% and the 90% credible levels (enclosed probability) for the final skymap of  GW150914, GW151226, GW170104 and GW170608.</strong> </span>\n",
    "* [Using Aladin GUI](https://drive.google.com/open?id=12iITUITYvLhVUyxStLnEdtKltmQBP4CT)\n",
    "* [Using Aladin Console](https://drive.google.com/open?id=1UE-cfGNlfd1pm7yKCESH-mN8KQXG6Zym)\n",
    "    \n",
    "<span style=\"color:#B22222\"> <strong>1.2.2. Move the MOC files in the specific folders</strong> </span>\n",
    "* [Using Aladin GUI](https://drive.google.com/open?id=12iITUITYvLhVUyxStLnEdtKltmQBP4CT)\n",
    "* [Using Aladin Console](https://drive.google.com/open?id=1UE-cfGNlfd1pm7yKCESH-mN8KQXG6Zym)\n",
    "    \n",
    "<span style=\"color:#B22222\"> <strong>1.2.3. Set as Drawing method: perimeter</strong> </span>\n",
    "* [Using Aladin GUI](https://drive.google.com/open?id=12iITUITYvLhVUyxStLnEdtKltmQBP4CT)\n",
    "* [Using Aladin Console](https://drive.google.com/open?id=1UE-cfGNlfd1pm7yKCESH-mN8KQXG6Zym)\n",
    "    \n",
    "<span style=\"color:#B22222\"> <strong>1.2.4. Compare the values of Area (50%) and the Area (90%) obtained in 1. with the values reported here</strong> </span>\n",
    "* [Detection Page](http://www.virgo-gw.eu/skymap.html)\n",
    "          \n",
    "<span style=\"color:#B22222\"> <strong>1.2.5. Save the current view in a <em>.jpg</em> image in AITOFF projection using as hips-background <em>DSS colored</em></strong> </span>\n"
   ]
  },
  {
   "cell_type": "markdown",
   "metadata": {},
   "source": [
    "# 3. GW170814: A Three-Detector Observation of Gravitational Waves from a Binary Black Hole Coalescence\n",
    "\n",
    "[GW170814](https://journals.aps.org/prl/abstract/10.1103/PhysRevLett.119.141101) is the fourth published detection of gravitational waves. As was the case with the first three published detections, the waves were generated by the coalescence of a pair of stellar-mass black holes. When we compare its position reconstruction in the Universe with the previous events, the sky localization of GW170814 is the narrowest. This new and exciting result was reached through a triple-coincident detection, coordinated by a body of more than 1,000 international scientists forming the LIGO and Virgo Collaboration (LVC)."
   ]
  },
  {
   "cell_type": "code",
   "execution_count": 14,
   "metadata": {},
   "outputs": [
    {
     "data": {
      "text/html": [
       "<img src=\"http://www.virgo-gw.eu/docs/GW170814/three_skymaps.png\"/>"
      ],
      "text/plain": [
       "<IPython.core.display.Image object>"
      ]
     },
     "metadata": {},
     "output_type": "display_data"
    }
   ],
   "source": [
    "display(Image(url='http://www.virgo-gw.eu/docs/GW170814/three_skymaps.png'))\n"
   ]
  },
  {
   "cell_type": "markdown",
   "metadata": {},
   "source": [
    "**Fig.3.** See also the **[Astronomy Picture of the Day](https://apod.nasa.gov/apod/ap170928.html)** - 2017 September 28 -  \n",
    "\n",
    "The event was recorded on 2017 August 14, and so christened GW170814, by the LIGO observatory sites in Hanford, Washington and Livingston, Louisiana, and the more recently operational Virgo Observatory near Pisa, Italy. The signal was emitted in the final moments of the coalescence of two black holes of 31 and 25 solar masses located about 1.8 billion light-years away. But comparing the timing of the gravitational wave detections at all three sites allowed astronomers to vastly improve the location of the signal's origin on the sky. Just above the Magellanic clouds and generally toward the constellation Eridanus, the only sky region consistent with signals in all three detectors is indicated by the yellow contour line in this all-sky map. The all-sky projection includes the arc of our Milky Way Galaxy. An improved three-detector location of the gravitational wave source allowed rapid follow-up observations by other, more conventional, electromagnetic wave observatories that can search for potentially related signals. The addition of the Virgo detector also allowed the gravitational wave polarization to be measured, a property that further confirms predictions of Einstein's general relativity. "
   ]
  },
  {
   "cell_type": "markdown",
   "metadata": {},
   "source": [
    "<span style=\"color:#B22222\"> <strong>2.1. Create the stack folder <em>GW170814</em></strong> </span>\n",
    "\n",
    "<span style=\"color:#B22222\"> <strong>2.2. Load three sky localizations from the <a href=\"https://losc.ligo.org/about/\">LIGO and Virgo Open Science Center</a>. For educational purposes N<sub>side</sub> = 512 for all sky maps and they are stored in an external site.</strong> </span>\n",
    "\n",
    "* GW170814: [rapid LIGO localization](https://github.com/ggreco77/Electromagnetic-follow-up-of-gravitational-wave-events/blob/master/bayestar_no_virgo_512.fits?raw=true) <em>right-click</em> Copy Link Location\n",
    "* GW170814: [rapid LIGO and Virgo localization](https://github.com/ggreco77/Electromagnetic-follow-up-of-gravitational-wave-events/blob/master/bayestar_with_virgo_512.fits?raw=true) <em>right-click</em> Copy Link Location\n",
    "* GW170814: [refined LIGO and Virgo localization](https://github.com/ggreco77/Electromagnetic-follow-up-of-gravitational-wave-events/blob/master/LALInference_v1_512.fits?raw=true) <em>right-click</em> Copy Link Location\n",
    "    \n",
    "<span style=\"color:#B22222\"> <strong>2.3. Rename the skymaps and move them in the folder created in 2.1.</strong> </span>\n",
    "\n",
    "<span style=\"color:#B22222\"> <strong>2.4. Build the 90% credible levels (enclosed probability) for the rapid sky localizations with Virgo and without Virgo</strong> </span>\n",
    "\n",
    "<span style=\"color:#B22222\"> <strong>2.5. How many times the location of GW170814 has been improved thanks to the presence of Virgo?</strong> </span>\n",
    "\n",
    "* [Answer to the online poll](http://freeonlinesurveys.com/p/GdVKMlz0?qid=1002143)\n",
    "\n",
    "<span style=\"color:#B22222\"> <strong>2.6. Build the 90% credible levels of the refined LIGO and Virgo localization.</strong> </span>\n",
    "\n",
    "<span style=\"color:#B22222\"> <strong>2.7. Calculate the intersection area between the rapid LIGO/Virgo sky localization and the refined one</strong> </span>\n",
    "\n",
    "* [Using Aladin GUI](https://github.com/ggreco77/Electromagnetic-follow-up-of-gravitational-wave-events/blob/master/cmoc_inter_GUI.png?raw=true)        \n",
    "    * [*MOC operation button*](https://github.com/ggreco77/Electromagnetic-follow-up-of-gravitational-wave-events/blob/master/MOCoperationButton.png?raw=true)\n",
    "* [Using Aladin Console](https://github.com/ggreco77/Electromagnetic-follow-up-of-gravitational-wave-events/blob/master/cmoc_int_script.png?raw=true) \n",
    "\n",
    "<span style=\"color:#B22222\"> <strong>2.8. How much the  intersection area is worth?</strong> </span>\n",
    "\n",
    "* [Answer to the online poll](http://freeonlinesurveys.com/p/D2wEn83c?qid=1002147)"
   ]
  },
  {
   "cell_type": "markdown",
   "metadata": {},
   "source": [
    "# 4. GW 170817: sky localizations of the *golden binary*\n",
    "Fig.7 shows the localization of the gravitational-wave, gamma-ray, and optical signals. The left panel shows a projection of the 90% credible regions from LIGO (light green), LIGO-Virgo (dark green), triangulation from the time delay between Fermi and INTEGRAL (light blue), and Fermi GBM (dark blue). The inset shows the location of the apparent host galaxy NGC 4993 in the Swope optical discovery image at 10.9 hours after the merger (top right) and the DLT40 pre-discovery image from 20.5 days prior to merger (bottom right). \n",
    "\n",
    "        "
   ]
  },
  {
   "cell_type": "code",
   "execution_count": 18,
   "metadata": {},
   "outputs": [
    {
     "data": {
      "text/html": [
       "<img src=\"http://ligo.org/science/Publication-GW170817MMA/images/Fig1.png\" width=\"500\" height=\"500\"/>"
      ],
      "text/plain": [
       "<IPython.core.display.Image object>"
      ]
     },
     "metadata": {},
     "output_type": "display_data"
    }
   ],
   "source": [
    "display(Image(url='http://ligo.org/science/Publication-GW170817MMA/images/Fig1.png',width=500, height=500))\n"
   ]
  },
  {
   "cell_type": "markdown",
   "metadata": {},
   "source": [
    "**Fig.4**.  Localization of the gravitational-wave, gamma-ray, and optical signals."
   ]
  },
  {
   "cell_type": "markdown",
   "metadata": {},
   "source": [
    "<span style=\"color:#B22222\"> <strong>4.1. Create the stack folder *GW170817*</strong> </span>\n",
    "\n",
    "<span style=\"color:#B22222\"> <strong>4.2. Load the refined sky localization from the  <a href=\"https://losc.ligo.org/about/\">LIGO and Virgo Open Science Center</a> </strong> </span>\n",
    "* https://dcc.ligo.org/public/0146/G1701985/001/LALInference_v2.fits.gz\n",
    "\n",
    "<span style=\"color:#B22222\"> <strong>4.3. Create the 5%, 10%, 50% and 90% MOC contour plots setting as <em>Drawing method</em>: perimeter</strong> </span>\n",
    "\n",
    "<span style=\"color:#B22222\"> <strong>4.4. <em>draw</em> the location of the optical transient SSS17a/2017gfo reported in  <a href=\"https://gcn.gsfc.nasa.gov/other/G298048.gcn3\">GCN 21529</a></strong> </span>\n",
    "* Using Aladin Console ([draw - graphical overlay commands](http://aladin.u-strasbg.fr/java/AladinScriptManual.gml#draw)) \n",
    "\n",
    "<span style=\"color:#B22222\"> <strong>4.5. In which confidence level the position of SSS17a/2017gfo fall?</strong> </span>\n",
    "\n",
    "* [Answer to the online poll](http://freeonlinesurveys.com/p/KptvducH?qid=1002155) \n",
    "\n",
    "<span style=\"color:#B22222\"> <strong> 4.6. Show the GLADE galaxies in 90% of probability threshold using the distance information in the header</strong> </span>\n",
    "\n",
    "* [Query Catalogs from MOC contour plots](https://drive.google.com/open?id=1ju-2IZP27LY7yat67lmqBV2xr7SBjJ76) \n",
    "* Send Aladin planes to TOPCAT via SAMP (<em>right-click</em> on the selected plane --> broadcast selected tables to --> TOPCAT)\n",
    "* [Create a new subset from the GLADE catalog using TOPCAT and resend to Aladin](https://drive.google.com/open?id=19-I6TybrLH6a21mipE0TvdMD-gybg7Fo)"
   ]
  },
  {
   "cell_type": "markdown",
   "metadata": {},
   "source": [
    "## <span style=\"color:#B22222\"> <strong> Exercise 1 </strong>  </span> \n",
    "Performe the same steps in Section 3 in the case of GW170817. Degrade the skymap resolutions as the example above."
   ]
  },
  {
   "cell_type": "code",
   "execution_count": 22,
   "metadata": {},
   "outputs": [
    {
     "name": "stdout",
     "output_type": "stream",
     "text": [
      "NSIDE = 1024\n",
      "ORDERING = NESTED in fits file\n",
      "INDXSCHM = IMPLICIT\n"
     ]
    }
   ],
   "source": [
    "# degrading the resolution of the skymap from NSIDE=1024 to NSIDE=512\n",
    "import numpy as np\n",
    "import healpy as hp\n",
    "prob=hp.read_map('LALInference_v2.fits.gz', nest=True)\n",
    "\n",
    "prob_512 = hp.pixelfunc.ud_grade(map_in=prob, nside_out=512,order_in='NESTED', \n",
    "                                 order_out='NESTED')\n",
    "\n",
    "hp.write_map('GW170817_LALInference_v2_512.fits.gz',prob_512, nest=True, coord ='C', \n",
    "             dtype=np.float64)"
   ]
  }
 ],
 "metadata": {
  "kernelspec": {
   "display_name": "Python 3",
   "language": "python",
   "name": "python3"
  },
  "language_info": {
   "codemirror_mode": {
    "name": "ipython",
    "version": 3
   },
   "file_extension": ".py",
   "mimetype": "text/x-python",
   "name": "python",
   "nbconvert_exporter": "python",
   "pygments_lexer": "ipython3",
   "version": "3.6.3"
  }
 },
 "nbformat": 4,
 "nbformat_minor": 2
}

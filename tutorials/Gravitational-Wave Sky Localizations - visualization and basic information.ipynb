{
 "cells": [
  {
   "cell_type": "markdown",
   "metadata": {},
   "source": [
    "# <span style=\"color:#1E90FF\"> <strong>  Gravitational-Wave Sky Localizations: visualization and basic information </strong> </span>\n",
    "\n",
    "This is the first of a series of tutorials focusing on some  basic strategies for working with gravitational-wave sky maps in the context of the EM-followUP activity. Here we cover:\n",
    "\n",
    "1. Sky map visualization using Aladin Desktop (1 h)\n",
    "2. Healpix/Healpy (40 minutes)\n",
    "3. Finding the sky position of the maximum probability density pixel (1 hour)"
   ]
  },
  {
   "cell_type": "markdown",
   "metadata": {},
   "source": [
    "## Setting up the Python Environment\n",
    "The following packages are needed for working with this tutorial: Astropy, Healpy, and Numpy. We will also utilize Matplotlib, Scipy, and Astroquery. All of these packages can be installed using Pip."
   ]
  },
  {
   "cell_type": "code",
   "execution_count": 208,
   "metadata": {},
   "outputs": [
    {
     "name": "stdout",
     "output_type": "stream",
     "text": [
      "Requirement already satisfied: astropy in /virgo/ext/python/anaconda3/Linux-x86_64-CL7/lib/python3.6/site-packages\n",
      "Requirement already satisfied: healpy in /users/greco/.local/lib/python3.6/site-packages\n",
      "Requirement already satisfied: pytest>=2.8 in /virgo/ext/python/anaconda3/Linux-x86_64-CL7/lib/python3.6/site-packages (from astropy)\n",
      "Requirement already satisfied: numpy>=1.9.0 in /virgo/ext/python/anaconda3/Linux-x86_64-CL7/lib/python3.6/site-packages (from astropy)\n",
      "Requirement already satisfied: six in /virgo/ext/python/anaconda3/Linux-x86_64-CL7/lib/python3.6/site-packages (from healpy)\n",
      "Requirement already satisfied: matplotlib in /virgo/ext/python/anaconda3/Linux-x86_64-CL7/lib/python3.6/site-packages (from healpy)\n",
      "Requirement already satisfied: py>=1.4.33 in /virgo/ext/python/anaconda3/Linux-x86_64-CL7/lib/python3.6/site-packages (from pytest>=2.8->astropy)\n",
      "Requirement already satisfied: setuptools in /virgo/ext/python/anaconda3/Linux-x86_64-CL7/lib/python3.6/site-packages (from pytest>=2.8->astropy)\n",
      "Requirement already satisfied: pyparsing!=2.0.0,!=2.0.4,!=2.1.2,!=2.1.6,>=1.5.6 in /virgo/ext/python/anaconda3/Linux-x86_64-CL7/lib/python3.6/site-packages (from matplotlib->healpy)\n",
      "Requirement already satisfied: cycler>=0.10 in /virgo/ext/python/anaconda3/Linux-x86_64-CL7/lib/python3.6/site-packages (from matplotlib->healpy)\n",
      "Requirement already satisfied: pytz in /virgo/ext/python/anaconda3/Linux-x86_64-CL7/lib/python3.6/site-packages (from matplotlib->healpy)\n",
      "Requirement already satisfied: python-dateutil in /virgo/ext/python/anaconda3/Linux-x86_64-CL7/lib/python3.6/site-packages (from matplotlib->healpy)\n",
      "\u001b[33mYou are using pip version 9.0.1, however version 10.0.1 is available.\n",
      "You should consider upgrading via the 'pip install --upgrade pip' command.\u001b[0m\n"
     ]
    }
   ],
   "source": [
    "import sys\n",
    "!{sys.executable} -m pip install \"astropy\" \"healpy\" "
   ]
  },
  {
   "cell_type": "markdown",
   "metadata": {},
   "source": [
    "# 1. GW sky localizations in Aladin Desktop\n",
    "\n",
    "The exercise focuses on the GUI/script commands to organize the Aladin stack planes. Reference manual on Aladin script commands is [here](http://aladin.u-strasbg.fr/java/AladinScriptManual.gml)."
   ]
  },
  {
   "cell_type": "markdown",
   "metadata": {},
   "source": [
    "###  1.1 Organize the Aladin stack planes\n",
    "<span style=\"color:#B22222\"> <strong> 1.1.1 Launch [Aladin](http://aladin.u-strasbg.fr/java/nph-aladin.pl?frame=downloading) - Official version v10.076  </strong> </span>\n",
    "* java -Xmx2g -jar Aladin.jar\n",
    "\n",
    "<span style=\"color:#B22222\"> <strong> 1.1.2 Create six stack folders: GW150914, GW151226, GW170104, GW170608, GW170814, GW170817 </strong> </span>\n",
    "\n",
    "* [Using Aladin GUI](https://drive.google.com/open?id=1F8mk2PHhkoboy_i0esd7fRzsvTUq-Iee)\n",
    "* [Using Aladin Console](https://drive.google.com/open?id=1aVL5jXcvbX2MfDICvXv6W2pFdvT7sObC)  \n",
    "    * [Open Aladin Console](https://drive.google.com/open?id=1iK9Zqq_SlKJBYUKlj0TDZ5jc9RQdk_SB) \n",
    "\n",
    "<span style=\"color:#B22222\"> <strong>  1.1.3. Load the refined sky localizations (LALInference) from the <a href=\"https://losc.ligo.org/about/\">LIGO and Virgo Open Science Center</a> </strong> </span> \n",
    "*  [GW150914](https://losc.ligo.org/s/events/GW150914/P1500227/LALInference_skymap.fits.gz)\n",
    "*  [GW151226](https://losc.ligo.org/s/events/GW151226/P1500227/LALInference_skymap_2.fits.gz)\n",
    "*  [GW170104](https://losc.ligo.org/s/events/GW170104/P1500227/LALInference_f.fits.gz)\n",
    "*  [GW170608](https://dcc.ligo.org/public/0147/G1702263/001/LALInference-P.fits.gz)\n",
    "*  [GW170814](https://dcc.ligo.org/public/0145/T1700453/001/LALInference_v1.fits.gz)\n",
    "*  [GW170817](https://dcc.ligo.org/public/0146/G1701985/001/LALInference_v2.fits.gz)\n",
    "    * [Using Aladin GUI](https://drive.google.com/open?id=1Q7m-ui-506ZtQdGblC-QhygjT3RRdugQ)\n",
    "    * [Using Aladin Console](https://drive.google.com/open?id=1I0gKvyzebUJ3FBSccppLdhQf__UFZc-r)\n",
    "    * Typing the URL on the <em>Command</em> box (on the top of the main Aladin window)\n",
    "    \n",
    "<span style=\"color:#B22222\"> <strong>  1.1.4. Rename the sky localizations files <em>in</em></strong> </span>\n",
    "* GW150914_lali\n",
    "* GW151226_lali\n",
    "* GW170104_lali\n",
    "* GW170608_lali\n",
    "* GW170814_lali\n",
    "* GW170817_lali\n",
    "\n",
    "    * Using Aladin GUI (right-click on the plane to open the *Properties* window)\n",
    "    * [Using Aladin Console](https://drive.google.com/open?id=12HxyKZNmIEe1CwOeDijLg2pno8KtdJgz) \n",
    "\n",
    "<span style=\"color:#B22222\"> <strong> 1.1.5. Move the sky localization files in the specific folders </strong>  </span>    \n",
    "*  Using Aladin GUI (drag the file in the folder)\n",
    "* [Using Aladin Console](https://drive.google.com/open?id=135CXJolfqMypXTgsA78kKlWGTUdlzIIT)"
   ]
  },
  {
   "cell_type": "markdown",
   "metadata": {},
   "source": [
    "##  <span style=\"color:#483D8B\"> <strong> POLL 1. What does the value on the top right of the Aladin window represent?</strong> </span>\n",
    "\n",
    "[Answer to the online poll](http://freeonlinesurveys.com/p/2o5ISYPT?qid=1053193)\n"
   ]
  },
  {
   "cell_type": "markdown",
   "metadata": {},
   "source": [
    "### 1.2 Python script controlling Aladin via SAMP\n",
    "The interoperability between the Aladin Sky Atlas and the Python function outputs is obtained using [SAMP](http://www.ivoa.net/documents/SAMP/) (Simple Application Messaging Protocol).\n",
    "\n",
    "SAMP is a protocol that is used by a number of other tools such as [TOPCAT](http://www.star.bris.ac.uk/~mbt/topcat/), [SAO Ds9](http://ds9.si.edu/site/Home.html), and [Aladin](http://aladin.u-strasbg.fr/); it is possible to send and receive data *to* and *from* these tools.\n",
    "Here the [Aladin script commands](http://aladin.u-strasbg.fr/java/AladinScriptManual.gml) are converted in Python strings and sent via [SAMPIntegratedClient class](http://jakevdp.github.io/astropy/api/astropy.vo.samp.SAMPIntegratedClient.html#astropy.vo.samp.SAMPIntegratedClient). "
   ]
  },
  {
   "cell_type": "code",
   "execution_count": 201,
   "metadata": {
    "collapsed": true
   },
   "outputs": [],
   "source": [
    "import os.path\n",
    "import sys\n",
    "\n",
    "if sys.version > '3':\n",
    "    import urllib.parse\n",
    "else:\n",
    "    import urlparse\n",
    "\n",
    "from astropy.samp import SAMPIntegratedClient\n",
    "\n",
    "\n",
    "class AladinViaSAMP(object):\n",
    "\n",
    "    def __init__(self):\n",
    "        self._client = SAMPIntegratedClient()\n",
    "        \n",
    "    def send_file(self, infile=str()):\n",
    "        \"\"\"Sending a file (image or table) to Aladin Sky Atlas using the SAMPIntegratedClient class.\n",
    "             http://docs.astropy.org/en/stable/vo/samp/example_table_image.html\n",
    "        \"\"\"   \n",
    "     \n",
    "        self._client.connect()\n",
    "        params = {}\n",
    "\n",
    "        if sys.version > '3':\n",
    "            params[\"url\"] = urllib.parse.urljoin('file:', os.path.abspath(infile))\n",
    "        else:\n",
    "            params[\"url\"] = urlparse.urljoin('file:', os.path.abspath(infile))\n",
    "            \n",
    "        message = {}\n",
    "        message[ \"samp.mtype\" ] = \"image.load.fits\"\n",
    "        message[ \"samp.params\" ] = params\n",
    "     \n",
    "        self._client.notify_all(message)\n",
    "        self._client.disconnect()\n",
    "\n",
    "\n",
    "    def send_script_command(self, script=str()):\n",
    "        \"\"\"Sending a script to Aladin Sky Atlas using the SAMPIntegratedClient class.\n",
    "           http://docs.astropy.org/en/stable/vo/samp/example_table_image.html\n",
    "         \"\"\"\n",
    "\n",
    "        self._client.connect()\n",
    "\n",
    "        params = {}\n",
    "        message = {} \n",
    "        message[ \"samp.mtype\" ] = \"script.aladin.send\"\n",
    "        message[ \"samp.params\" ] = { \"script\" : script }  \n",
    "\n",
    "        self._client.notify_all(message)\n",
    "        self._client.disconnect()\n",
    "\n",
    "\n",
    "class AladinScriptCommands(AladinViaSAMP):\n",
    "    \"\"\"A set of the main script commands for Aladin console.\n",
    "        http://aladin.u-strasbg.fr/java/AladinScriptManual.gml\"\"\"\n",
    "  \n",
    "    def load_md_mv(self, skymap, url):\n",
    "        \"\"\"A set of aladin commands; load; md; mv.\"\"\"\n",
    "              \n",
    "        load_md_mv_str = skymap + '=' + ' '+ 'load'+ ' ' + url + ';sync;' \\\n",
    "        + 'md '+skymap + '_LALI;' \\\n",
    "        + 'mv ' +skymap + ' '+skymap + '_LALI;'\n",
    "\n",
    "        return self.send_script_command(load_md_mv_str)"
   ]
  },
  {
   "cell_type": "markdown",
   "metadata": {},
   "source": [
    "#### Here we write a short script to do the same actions in **1.1** but using the SAMP protocol."
   ]
  },
  {
   "cell_type": "code",
   "execution_count": 202,
   "metadata": {
    "collapsed": true
   },
   "outputs": [],
   "source": [
    "# Download LALInference skymaps \n",
    "from astropy.utils.data import download_file\n",
    "\n",
    "urls = ['https://losc.ligo.org/s/events/GW150914/P1500227/LALInference_skymap.fits.gz',\n",
    "        'https://losc.ligo.org/s/events/GW151226/P1500227/LALInference_skymap_2.fits.gz',\n",
    "        'https://losc.ligo.org/s/events/GW170104/P1500227/LALInference_f.fits.gz',\n",
    "        'https://dcc.ligo.org/public/0147/G1702263/001/LALInference-P.fits.gz',\n",
    "        'https://dcc.ligo.org/public/0145/T1700453/001/LALInference_v1.fits.gz',\n",
    "        'https://dcc.ligo.org/public/0146/G1701985/001/LALInference_v2.fits.gz']\n",
    "\n",
    "# folder name\n",
    "final_skymaps = ['GW150914', 'GW151226', 'GW170104', \n",
    "                 'GW170608', 'GW170814', 'GW170817']\n",
    "\n",
    "aladin = AladinScriptCommands() # init.\n",
    "\n",
    "for url, final_skymap in zip(urls, final_skymaps):\n",
    "    filename = download_file(url, cache=True)\n",
    "    aladin.load_md_mv(final_skymap, filename)"
   ]
  },
  {
   "cell_type": "markdown",
   "metadata": {},
   "source": [
    "## <span style=\"color:#B22222\"> <strong> Exercise 1 </strong>  </span>  \n",
    "Get the following hips images from the [HiPS servers](http://aladin.u-strasbg.fr/java/nph-aladin.pl?frame=aladinHpxList)  using the function *get hips(...)* via SAMP\n",
    "\n",
    "        1) DSS\n",
    "        2) Fermi\n",
    "        3) Mellinger\n",
    "        4) 2MASS\n",
    "        5) SDSSDR9-color \n",
    "        6) IRIS Color\n",
    "        7) AKARI FIS Color"
   ]
  },
  {
   "cell_type": "markdown",
   "metadata": {},
   "source": [
    "# 2. Healpy: reading and plotting\n",
    "\n",
    "Now we read the HEALPix file with healpy getting the probability and the header. The skymap contains the first column which is the probability sky map. This is the probability that the source is contained in pixel $i$, centered on the direction $\\vec{n}_i$. For 3D skymaps, 3 additional columns remain which are DISTMU, DISTSTD, and DISTNORM."
   ]
  },
  {
   "cell_type": "code",
   "execution_count": 212,
   "metadata": {
    "collapsed": true
   },
   "outputs": [],
   "source": [
    "# LALInference skymap of GW150914 \n",
    "filename = download_file('https://dcc.ligo.org/public/0146/G1701985/001/LALInference_v2.fits.gz', \n",
    "                         cache=True)"
   ]
  },
  {
   "cell_type": "code",
   "execution_count": 213,
   "metadata": {
    "collapsed": true
   },
   "outputs": [],
   "source": [
    "import healpy as hp\n",
    "prob = hp.read_map(filename, verbose=False) # reading the first column which contains the probability "
   ]
  },
  {
   "cell_type": "markdown",
   "metadata": {},
   "source": [
    "## 2.1 Creating skymap plots"
   ]
  },
  {
   "cell_type": "code",
   "execution_count": 214,
   "metadata": {},
   "outputs": [
    {
     "name": "stdout",
     "output_type": "stream",
     "text": [
      "0.0 180.0 -180.0 180.0\n",
      "The interval between parallels is 30 deg -0.00'.\n",
      "The interval between meridians is 30 deg -0.00'.\n"
     ]
    },
    {
     "data": {
      "image/png": "[encoded data removed]",
      "text/plain": [
       "<matplotlib.figure.Figure at 0x7f215be74eb8>"
      ]
     },
     "metadata": {},
     "output_type": "display_data"
    }
   ],
   "source": [
    "from matplotlib import pyplot as plt # plotting skymaps\n",
    "hp.mollview(prob, title='GW170817 LALInference')\n",
    "hp.graticule(local=True) # adding the GRID\n",
    "plt.show()"
   ]
  },
  {
   "cell_type": "markdown",
   "metadata": {},
   "source": [
    "## <span style=\"color:#B22222\"> <strong> Exercise 2 </strong>  </span>  \n",
    "Create skymap plots with equatorial coordinates for the all events detected so far (use the final skymaps)."
   ]
  },
  {
   "cell_type": "markdown",
   "metadata": {},
   "source": [
    "## 2.2 Header\n",
    "\n",
    "The header contains relevant metadata about the event and the skymap and we will print it explicitly. Often, the circulars written by the LIGO and Virgo Collaborations contain information from the skymap headers."
   ]
  },
  {
   "cell_type": "code",
   "execution_count": 215,
   "metadata": {},
   "outputs": [
    {
     "name": "stdout",
     "output_type": "stream",
     "text": [
      "<class 'list'>\n",
      "<class 'dict'>\n",
      "{'XTENSION': 'BINTABLE', 'BITPIX': 8, 'NAXIS': 2, 'NAXIS1': 32, 'NAXIS2': 12582912, 'PCOUNT': 0, 'GCOUNT': 1, 'TFIELDS': 4, 'TTYPE1': 'PROB', 'TFORM1': 'D', 'TUNIT1': 'pix-1', 'TTYPE2': 'DISTMU', 'TFORM2': 'D', 'TUNIT2': 'Mpc', 'TTYPE3': 'DISTSIGMA', 'TFORM3': 'D', 'TUNIT3': 'Mpc', 'TTYPE4': 'DISTNORM', 'TFORM4': 'D', 'TUNIT4': 'Mpc-2', 'PIXTYPE': 'HEALPIX', 'ORDERING': 'NESTED', 'COORDSYS': 'C', 'NSIDE': 1024, 'INDXSCHM': 'IMPLICIT', 'OBJECT': 'GW170817', 'DATE-OBS': '2017-08-17T12:41:04.429237', 'MJD-OBS': 57982.52852348645, 'DATE': '2017-09-26T14:24:08.382958', 'CREATOR': 'run_sky_area', 'ORIGIN': 'LIGO/Virgo', 'DISTMEAN': 38.58938617448738, 'DISTSTD': 6.996864447652665, 'VCSVERS': 'skyarea 0.3.2', 'VCSSTAT': '', 'VCSREV': '', 'DATE-BLD': '', 'HISTORY': 'tidal_P28.dat --objid GW170817'}\n"
     ]
    }
   ],
   "source": [
    "prob, header = hp.read_map(filename, h=True, verbose=False)  # reading also the header\n",
    "\n",
    "print(type(header)) # it is a list\n",
    "\n",
    "header = dict(header) # converting in a dictionary\n",
    "\n",
    "print (type(header)) # it is a dictionary\n",
    "print(header)"
   ]
  },
  {
   "cell_type": "markdown",
   "metadata": {},
   "source": [
    "#### Here we show how is easy to get header information using a dictionary!"
   ]
  },
  {
   "cell_type": "code",
   "execution_count": 216,
   "metadata": {},
   "outputs": [
    {
     "name": "stdout",
     "output_type": "stream",
     "text": [
      "1024\n",
      "2017-08-17T12:41:04.429237\n",
      "38.58938617448738\n",
      "38.58938617448738\n"
     ]
    }
   ],
   "source": [
    "nside = header['NSIDE'] # Resolution parameter of HEALPIX\n",
    "print (nside)\n",
    "\n",
    "DATE_OBS = header['DATE-OBS'] # UTC date of the observation \n",
    "print (DATE_OBS)\n",
    "\n",
    "DISTMEAN = header['DISTMEAN'] # DISTMEAN is the posterior mean distance in Mpc\n",
    "print (DISTMEAN)\n",
    "\n",
    "DISTSTD = header['DISTSTD'] # and DISTSTD is the posterior standard deviation of the distance in Mpc\n",
    "print (DISTMEAN)"
   ]
  },
  {
   "cell_type": "markdown",
   "metadata": {},
   "source": [
    "## 2.3 How to visualize the FITS header in Aladin Desktop?\n",
    "Select the plane of this image in the plane stack by clicking on its name and press select the menu <span style=\"color:#B22222\"> <strong> Edit -> FITS header. "
   ]
  },
  {
   "cell_type": "markdown",
   "metadata": {},
   "source": [
    "## 2.4 3D sky maps\n",
    "[Singer et al.(2016)](https://arxiv.org/pdf/1603.07333v2.pdf) discuss a rapid algorithm for obtaining a three-dimensional probability estimates of sky location and luminosity distance from observations of binary \n",
    "compact object mergers with Advanced LIGO and Virgo. Combining the reconstructed gravitational wave volumes with positions and redshifts of possible host  galaxies  provides  a  manageable  list  of  sky location  targets  to  search  for  the  electromagnetic \n",
    "counterpart of the gravitational wave signal.\n",
    "\n",
    "The marginal distance posterior distribution integrated over the whole sky is reported in the header *with* \n",
    "\n",
    "       DISTMEAN    /Posterior mean distance (Mpc)\n",
    "       DISTSTB     / Posterior standard deviation of distance (Mpc)"
   ]
  },
  {
   "cell_type": "markdown",
   "metadata": {},
   "source": [
    "## <span style=\"color:#B22222\"> <strong> Exercise 3 </strong>  </span>  \n",
    "Fill the table with the values in the header.\n",
    "\n",
    "|      Event and skymap          |  N<sub>side</sub> | Event time  | DISTMEAN | DISTSTD |\n",
    "|----------------- --------------|---------------------------------|----------|---------|\n",
    "|   **GW150914** - LALInference  |                   |             |          |         |         \n",
    "|   **GW151226** - LALInference  |                   |             |          |         |   \n",
    "|   **GW170104** - LALInference  |                   |             |          |         |\n",
    "|   **GW170608** - LALInference  |                   |             |          |         |\n",
    "|   **GW170814** - LALInference  |                   |             |          |         |\n",
    "|   **GW170817** - LALInference  |                   |             |          |         |"
   ]
  },
  {
   "cell_type": "markdown",
   "metadata": {},
   "source": [
    "# 3. LIGO/Virgo probability sky maps\n",
    " \n",
    "Probability sky maps associated with a gravitational-wave signal detected by \n",
    "the Advanced LIGO and Virgo are given as all-sky \n",
    "images stored in the [HEALPix](http://healpix.sourceforge.net/)\n",
    "(Hierarchical Equal Area isoLatitude Pixelisation) projection.\n",
    "The  sphere  is  hierarchically tessellated into curvilinear quadrilaterals; \n",
    "the resolution of the tessellation can be increased by the division of each pixel into four new ones.  \n",
    "The lowest resolution partition is comprised of twelve base pixels.\n",
    "The pixel position on the sky is uniquely specified by the index in the array and the array’s length.\n",
    "The resolution of the grid is expressed by the parameter N<sub>side</sub>,\n",
    "and the total number of pixels equal to N<sub>pixs</sub> = 12 x N<sub>side</sub><sup>2</sup>. In such context, the value stored at each pixel represents the probability that the gravitational-wave source \n",
    "is located within that pixel (see [LIGO-Virgo EM Follow-Up Tutorial](http://nbviewer.jupyter.org/github/lpsinger/ligo-virgo-emfollowup-tutorial/blob/master/ligo-virgo-emfollowup-tutorial.ipynb)).  "
   ]
  },
  {
   "cell_type": "code",
   "execution_count": 163,
   "metadata": {},
   "outputs": [
    {
     "data": {
      "text/html": [
       "<img src=\"https://healpix.jpl.nasa.gov/images/healpixGridRefinement.jpg\"/>"
      ],
      "text/plain": [
       "<IPython.core.display.Image object>"
      ]
     },
     "metadata": {},
     "output_type": "display_data"
    }
   ],
   "source": [
    "from IPython.display import Image\n",
    "from IPython.display import display\n",
    "display(Image(url='https://healpix.jpl.nasa.gov/images/healpixGridRefinement.jpg'))"
   ]
  },
  {
   "cell_type": "markdown",
   "metadata": {},
   "source": [
    "**FIG.1.** It shows the partitioning of a sphere at progressively higher resolutions, from left to right. The green sphere represents the lowest resolution possible with the HEALPix base partitioning of the sphere surface into 12 equal sized pixels. The yellow sphere has a HEALPix grid of 48 pixels, the red sphere has 192 pixels, and the blue sphere has a grid of 768 pixels (more information [here](https://healpix.jpl.nasa.gov/))."
   ]
  },
  {
   "cell_type": "markdown",
   "metadata": {},
   "source": [
    "Next, it will be useful for us to have the HEALPix resolution on hand."
   ]
  },
  {
   "cell_type": "code",
   "execution_count": 164,
   "metadata": {},
   "outputs": [
    {
     "data": {
      "text/plain": [
       "(3145728, 512)"
      ]
     },
     "execution_count": 164,
     "metadata": {},
     "output_type": "execute_result"
    }
   ],
   "source": [
    "npix = len(prob)\n",
    "nside = hp.npix2nside(npix)\n",
    "npix, nside"
   ]
  },
  {
   "cell_type": "markdown",
   "metadata": {},
   "source": [
    "Another way to get the same information is to use the Healpy functions get_map_size and get_nside."
   ]
  },
  {
   "cell_type": "code",
   "execution_count": 99,
   "metadata": {},
   "outputs": [
    {
     "data": {
      "text/plain": [
       "3145728"
      ]
     },
     "execution_count": 99,
     "metadata": {},
     "output_type": "execute_result"
    }
   ],
   "source": [
    "hp.get_map_size(prob)"
   ]
  },
  {
   "cell_type": "code",
   "execution_count": 100,
   "metadata": {},
   "outputs": [
    {
     "data": {
      "text/plain": [
       "512"
      ]
     },
     "execution_count": 100,
     "metadata": {},
     "output_type": "execute_result"
    }
   ],
   "source": [
    "hp.get_nside(prob)"
   ]
  },
  {
   "cell_type": "markdown",
   "metadata": {},
   "source": [
    "The relationship between N<sub>pixs</sub> = 12 x N<sub>side</sub><sup>2</sup>."
   ]
  },
  {
   "cell_type": "code",
   "execution_count": 146,
   "metadata": {},
   "outputs": [
    {
     "name": "stdout",
     "output_type": "stream",
     "text": [
      "3145728\n"
     ]
    }
   ],
   "source": [
    "Npixs = 12*nside*nside\n",
    "print (Npixs)"
   ]
  },
  {
   "cell_type": "markdown",
   "metadata": {},
   "source": [
    "## <span style=\"color:#B22222\"> <strong> Exercise 4 </strong>  </span> \n",
    "Compute the pixel area given N<sub>side</sub> = 512 in square radians and square degrees (the area of all pixels at a given resolution are identical)."
   ]
  },
  {
   "cell_type": "markdown",
   "metadata": {},
   "source": [
    "##  <span style=\"color:#483D8B\"> <strong> POLL 2. The lowest resolution partition in HEALPix is </strong> </span>\n",
    "\n",
    "[Answer to the online poll](http://freeonlinesurveys.com/p/4B4U8F1a?qid=1053359)"
   ]
  },
  {
   "cell_type": "markdown",
   "metadata": {},
   "source": [
    "##  <span style=\"color:#483D8B\"> <strong> POLL 3. At a given resolution the shape and the area are the same for all pixels </strong> </span>\n",
    "\n",
    "[Answer to the online poll](http://freeonlinesurveys.com/p/rFICBQWa?qid=1053361)"
   ]
  },
  {
   "cell_type": "markdown",
   "metadata": {},
   "source": [
    "# 4. Finding the maximum probability density pixel"
   ]
  },
  {
   "cell_type": "markdown",
   "metadata": {},
   "source": [
    "Sometimes it is useful to find the sky position (RA, DEC) of the maximum probability density pixel."
   ]
  },
  {
   "cell_type": "code",
   "execution_count": 130,
   "metadata": {},
   "outputs": [
    {
     "name": "stdout",
     "output_type": "stream",
     "text": [
      "3048817\n"
     ]
    },
    {
     "data": {
      "text/plain": [
       "6.780870899092406e-05"
      ]
     },
     "execution_count": 130,
     "metadata": {},
     "output_type": "execute_result"
    }
   ],
   "source": [
    "import numpy as np\n",
    "\n",
    "ipix_max = np.argmax(prob) # array's position\n",
    "print (ipix_max) \n",
    "prob[ipix_max] # probability inside it\n"
   ]
  },
  {
   "cell_type": "markdown",
   "metadata": {},
   "source": [
    "Next we call `pix2ang` to get the spherical polar coordinates $(\\theta, \\phi)$ in radians, and then use Numpy's [`rad2deg`](http://docs.scipy.org/doc/numpy/reference/generated/numpy.rad2deg.html) function to convert these to right ascension and declination in degrees."
   ]
  },
  {
   "cell_type": "code",
   "execution_count": 128,
   "metadata": {},
   "outputs": [
    {
     "data": {
      "text/plain": [
       "(134.79545454545453, -69.793893731105584)"
      ]
     },
     "execution_count": 128,
     "metadata": {},
     "output_type": "execute_result"
    }
   ],
   "source": [
    "theta, phi = hp.pix2ang(nside, ipix_max)\n",
    "ra = np.rad2deg(phi)\n",
    "dec = np.rad2deg(0.5 * np.pi - theta)\n",
    "ra, dec"
   ]
  },
  {
   "cell_type": "markdown",
   "metadata": {},
   "source": [
    "## <span style=\"color:#B22222\"> <strong> Exercise 5 </strong>  </span>  \n",
    "\n",
    "Find the sky positions of the maximum probability pixels of the GW sky localization skymaps issued so far (preliminary/final). Label them in the Aladin plane. Finally calculate the airmass at the time of the event at the ESO Paranal site."
   ]
  },
  {
   "cell_type": "markdown",
   "metadata": {
    "collapsed": true
   },
   "source": [
    "## <span style=\"color:#B22222\"> <strong> Exercise 6 </strong>  </span> \n",
    "Find the separation from the sky position of the maximum probaility pixel found in the *rapid* skymaps and the sky position of the maximum probability pixel found in the *final* skymaps. "
   ]
  },
  {
   "cell_type": "markdown",
   "metadata": {
    "collapsed": true
   },
   "source": [
    "\n",
    "\n"
   ]
  }
 ],
 "metadata": {
  "kernelspec": {
   "display_name": "Python 3",
   "language": "python",
   "name": "python3"
  },
  "language_info": {
   "codemirror_mode": {
    "name": "ipython",
    "version": 3
   },
   "file_extension": ".py",
   "mimetype": "text/x-python",
   "name": "python",
   "nbconvert_exporter": "python",
   "pygments_lexer": "ipython3",
   "version": "3.6.3"
  }
 },
 "nbformat": 4,
 "nbformat_minor": 1
}
